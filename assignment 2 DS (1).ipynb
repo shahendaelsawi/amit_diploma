{
 "cells": [
  {
   "cell_type": "markdown",
   "metadata": {},
   "source": [
    "## Write a Numpy program to compute the multiplication of two given matrixes"
   ]
  },
  {
   "cell_type": "code",
   "execution_count": 2,
   "metadata": {},
   "outputs": [
    {
     "name": "stdout",
     "output_type": "stream",
     "text": [
      "[[5, 0], [0, 5]]\n",
      "[[1, 4], [5, 1]]\n",
      "[[ 5 20]\n",
      " [25  5]]\n"
     ]
    }
   ],
   "source": [
    "import numpy as np\n",
    "p = [[5, 0], [0, 5]]\n",
    "q = [[1, 4], [5, 1]]\n",
    "print(p)\n",
    "print(q)\n",
    "result = np.dot(p, q)\n",
    "print(result)"
   ]
  },
  {
   "cell_type": "code",
   "execution_count": null,
   "metadata": {},
   "outputs": [],
   "source": []
  },
  {
   "cell_type": "markdown",
   "metadata": {},
   "source": [
    "## Write a NumPy program to compute the determinant of a given square array"
   ]
  },
  {
   "cell_type": "code",
   "execution_count": 3,
   "metadata": {},
   "outputs": [
    {
     "name": "stdout",
     "output_type": "stream",
     "text": [
      "[[5 0]\n",
      " [1 6]]\n",
      "Determinant of the 2-D array:\n",
      "29.99999999999999\n"
     ]
    }
   ],
   "source": [
    "import numpy as np\n",
    "from numpy import linalg as LA\n",
    "b = np.array([[5, 0], [1, 6]])\n",
    "print(b)\n",
    "print(\"Determinant of the 2-D array:\")\n",
    "print(np.linalg.det(b))"
   ]
  },
  {
   "cell_type": "code",
   "execution_count": null,
   "metadata": {},
   "outputs": [],
   "source": []
  },
  {
   "cell_type": "markdown",
   "metadata": {},
   "source": [
    "## Write a NumPy program to compute the cross product of two given vectors"
   ]
  },
  {
   "cell_type": "code",
   "execution_count": 4,
   "metadata": {},
   "outputs": [
    {
     "name": "stdout",
     "output_type": "stream",
     "text": [
      "original matrix:\n",
      "[[4, 0], [0, 2]]\n",
      "[[1, 4], [4, 4]]\n",
      "cross product of the two vectors(m1, m2):\n",
      "[16 -8]\n",
      "cross product of the two vectors(m2, m1):\n",
      "[-16   8]\n"
     ]
    }
   ],
   "source": [
    "import numpy as np\n",
    "m1 = [[4, 0], [0, 2]]\n",
    "m2= [[1, 4], [4, 4]]\n",
    "print(\"original matrix:\")\n",
    "print(m1)\n",
    "print(m2)\n",
    "result1 = np.cross(m1, m2)\n",
    "result2 = np.cross(m2, m1)\n",
    "print(\"cross product of the two vectors(m1, m2):\")\n",
    "print(result1)\n",
    "print(\"cross product of the two vectors(m2, m1):\")\n",
    "print(result2)"
   ]
  },
  {
   "cell_type": "code",
   "execution_count": null,
   "metadata": {},
   "outputs": [],
   "source": []
  },
  {
   "cell_type": "markdown",
   "metadata": {},
   "source": [
    "## Write a NumPy program to compute the condition number of a given matrix"
   ]
  },
  {
   "cell_type": "code",
   "execution_count": 7,
   "metadata": {},
   "outputs": [
    {
     "name": "stdout",
     "output_type": "stream",
     "text": [
      "Original matrix:\n",
      "[[ 5  0 -5]\n",
      " [ 0  5  0]\n",
      " [ 5  0  5]]\n",
      "The condition number of the matrix:\n",
      "1.4142135623730951\n"
     ]
    }
   ],
   "source": [
    "import numpy as np\n",
    "from numpy import linalg as LA\n",
    "h = np.array([[5, 0, -5], [0, 5, 0], [5, 0, 5]])\n",
    "print(\"Original matrix:\")\n",
    "print(h)\n",
    "print(\"The condition number of the matrix:\")\n",
    "print(LA.cond(h))"
   ]
  },
  {
   "cell_type": "code",
   "execution_count": null,
   "metadata": {},
   "outputs": [],
   "source": []
  },
  {
   "cell_type": "markdown",
   "metadata": {},
   "source": [
    "## Write a NumPy program to compute the inverse of a given matrix"
   ]
  },
  {
   "cell_type": "code",
   "execution_count": 10,
   "metadata": {},
   "outputs": [
    {
     "name": "stdout",
     "output_type": "stream",
     "text": [
      "Original matrix:\n",
      "[[6 7]\n",
      " [4 1]]\n",
      "Inverse of the said matrix:\n",
      "[[-0.04545455  0.31818182]\n",
      " [ 0.18181818 -0.27272727]]\n"
     ]
    }
   ],
   "source": [
    "import numpy as np\n",
    "o = np.array([[6,7],[4,1]])\n",
    "print(\"Original matrix:\")\n",
    "print(o)\n",
    "result =  np.linalg.inv(o)\n",
    "print(\"Inverse of the said matrix:\")\n",
    "print(result)"
   ]
  },
  {
   "cell_type": "code",
   "execution_count": null,
   "metadata": {},
   "outputs": [],
   "source": []
  },
  {
   "cell_type": "code",
   "execution_count": null,
   "metadata": {},
   "outputs": [],
   "source": []
  }
 ],
 "metadata": {
  "kernelspec": {
   "display_name": "Python 3 (ipykernel)",
   "language": "python",
   "name": "python3"
  },
  "language_info": {
   "codemirror_mode": {
    "name": "ipython",
    "version": 3
   },
   "file_extension": ".py",
   "mimetype": "text/x-python",
   "name": "python",
   "nbconvert_exporter": "python",
   "pygments_lexer": "ipython3",
   "version": "3.9.12"
  }
 },
 "nbformat": 4,
 "nbformat_minor": 2
}
